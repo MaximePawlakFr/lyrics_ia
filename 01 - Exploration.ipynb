{
 "cells": [
  {
   "cell_type": "markdown",
   "metadata": {},
   "source": [
    "\n",
    "Source: https://github.com/johnwmillr/LyricsGenius\n",
    "\n",
    "\n"
   ]
  },
  {
   "cell_type": "markdown",
   "metadata": {},
   "source": [
    "Goal 1:\n",
    "- Save lyrics for a song to file"
   ]
  },
  {
   "cell_type": "code",
   "execution_count": 9,
   "metadata": {},
   "outputs": [],
   "source": [
    "import os"
   ]
  },
  {
   "cell_type": "code",
   "execution_count": 10,
   "metadata": {},
   "outputs": [],
   "source": [
    "import lyricsgenius\n",
    "import credentials\n",
    "\n",
    "# Connect genius client\n",
    "genius = lyricsgenius.Genius(credentials.genius_access_token)"
   ]
  },
  {
   "cell_type": "code",
   "execution_count": 11,
   "metadata": {},
   "outputs": [
    {
     "name": "stdout",
     "output_type": "stream",
     "text": [
      "Searching for \"On ira\" by Jean-Jacques...\n",
      "Specified song does not have a valid URL with lyrics. Rejecting.\n"
     ]
    }
   ],
   "source": [
    "# song = genius.search_song(\"Ma Jolie\", \"Jul\")\n",
    "song = genius.search_song(\"On ira\", \"Jean-Jacques\")\n",
    "song"
   ]
  },
  {
   "cell_type": "code",
   "execution_count": 12,
   "metadata": {},
   "outputs": [
    {
     "name": "stdout",
     "output_type": "stream",
     "text": [
      "Searching for songs by Jean-Jacques Goldman...\n",
      "\n",
      "Song 1: \"À l’envers\"\n",
      "Song 2: \"Appartenir\"\n",
      "Song 3: \"À quoi tu sers ?\"\n",
      "\n",
      "Reached user-specified song limit (3).\n",
      "Done. Found 3 songs.\n",
      "[('À l’envers', 'Jean-Jacques Goldman'), ('Appartenir', 'Jean-Jacques Goldman'), ('À quoi tu sers ?', 'Jean-Jacques Goldman')]\n",
      "Jean-Jacques Goldman, 3 songs\n"
     ]
    }
   ],
   "source": [
    "artist = genius.search_artist(\"Jean-Jacques Goldman\", max_songs=3, sort=\"title\")\n",
    "print(artist.songs)\n",
    "print(artist)"
   ]
  },
  {
   "cell_type": "code",
   "execution_count": 15,
   "metadata": {},
   "outputs": [
    {
     "data": {
      "text/plain": [
       "47263"
      ]
     },
     "execution_count": 15,
     "metadata": {},
     "output_type": "execute_result"
    }
   ],
   "source": [
    "artist._id"
   ]
  },
  {
   "cell_type": "code",
   "execution_count": 3,
   "metadata": {},
   "outputs": [
    {
     "name": "stdout",
     "output_type": "stream",
     "text": [
      "lyrics.txt already exists. Overwrite?\n",
      "(y/n): y\n",
      "Wrote Ma jolie to lyrics.txt.\n",
      "[Intro]\n",
      "Ma jo-jo, ma jolie\n",
      "Ma jolie, ma jolie\n",
      "Ma jo-jo, ma jolie\n",
      "Ma jolie, ma jolie\n",
      "Ma jo-jo, ma jolie\n",
      "Ma jolie, ma jolie\n",
      "\n",
      "[Refrain]\n",
      "Ma jolie, dis-moi qu'tu m'aimes à la folie\n",
      "Les yeux d'Angelina Jolie, mental Sandra Paoli\n",
      "Ma jolie, dis-moi qu'tu m'aimes à la folie\n",
      "Les yeux d'Angelina Jolie, mental Sandra Paoli\n",
      "\n",
      "[Couplet 1]\n",
      "Ma jolie elle rend fou les hommes, quand elle passe dans la zone\n",
      "J'ai encore sa voix qui résonne, qu'est-ce qu'elle est belle ma jolie !\n",
      "À personne elle ressemble, en plus j'aime bien son caractère\n",
      "J'ai des sentiments il me semble, mais j'y dit pas je suis trop ter-ter\n",
      "Je l'aime bien cette girl, je crois bien que c'est mon coup d'cœur\n",
      "Elle s'plaint que j'reste au secteur, pour moi elle a peur\n",
      "Franchement t'es jolie, et ce boule qui met dans l'insomnie\n",
      "J'pense souvent à toi quand j'm'ennuie\n",
      "Et toi t'es comment sans moi?\n",
      "J'vois qu'tu m'parles plus, dis-moi qu'est-ce qui s'passe là ?\n",
      "Qu'est-ce qui t'as déplu ? Qu'est-ce que tu veux qu'j'y fasse moi ?\n",
      "Quand j'la calcule pas elle fait pareil, ma jolie elle attend qu'je serre\n",
      "Ma jolie...\n",
      "\n",
      "[Refrain]\n",
      "Ma jolie, dis-moi qu'tu m'aimes à la folie\n",
      "Les yeux d'Angelina Jolie, mental Sandra Paoli\n",
      "Ma jolie, dis-moi qu'tu m'aimes à la folie\n",
      "Les yeux d'Angelina Jolie, mental Sandra Paoli\n",
      "\n",
      "[Pont]\n",
      "Ma jolie, ma jolie, ma jolie, ma jolie\n",
      "Ma jolie, ma jolie, ma jolie, ma jolie\n",
      "Ma jolie, ma jolie, ma jolie, ma jolie\n",
      "\n",
      "[Couplet 2]\n",
      "Ma jolie elle fait des dégâts\n",
      "Elle m'aime fort elle s'en fout des gars\n",
      "Elle m'fait sourire à chaque fois qu'elle m'voit souffrir\n",
      "Quand elle m'fait la tête j'vois mon cœur s'ouvrir\n",
      "On s'fait des bisous, on s'fait des gâtés\n",
      "Sa peau toute douce, elle me fait craquer\n",
      "Made-moi-selle tu m'tournes autour, ça fait longtemps\n",
      "Laisse tomber j'suis avec ma jolie\n",
      "J'ne vois même plus passer le temps\n",
      "Quand j'vais la voir j'suis en Asics, en Kalenji\n",
      "Et là j'crois bien qu'j'vais rester avec elle jusqu'à Lundi\n",
      "Ma jolie, j'lui fais tester mon bolide\n",
      "Dans ma folie, j'lui fais tester mon brolique\n",
      "Et j'm'affole-fole-fole\n",
      "Faut qu'j'reste zen-zen-zen\n",
      "C'est ma drogue j'la picole-cole-cole\n",
      "Elle m'donne des ailes-ailes-ailes\n",
      "\n",
      "[Pont 1]\n",
      "Ma jolie, faut qu'j'reste solide\n",
      "Ma jolie, faut qu'j'reste solide\n",
      "\n",
      "[Pont 2]\n",
      "Qu'est-ce qu'elle est belle ma jolie !\n",
      "Qu'est-ce qu'elle est belle ma jolie !\n",
      "Qu'est-ce qu'elle est belle ma jolie !\n",
      "Qu'est-ce qu'elle est belle ma jolie !\n",
      "Qu'est-ce qu'elle est belle ma jolie !\n",
      "Qu'est-ce qu'elle est belle ma jolie !\n",
      "Qu'est-ce qu'elle est belle ma jolie !\n",
      "Qu'est-ce qu'elle est belle ma jolie !\n",
      "\n",
      "[Refrain]\n",
      "Ma jolie, dis-moi qu'tu m'aimes à la folie\n",
      "Les yeux d'Angelina Jolie, mental Sandra Paoli\n",
      "\n",
      "[Pont]\n",
      "Ma jolie, ma jolie, ma jolie, ma jolie\n",
      "Ma jolie, ma jolie, ma jolie, ma jolie\n",
      "\n",
      "[Refrain]\n",
      "Ma jolie, dis-moi qu'tu m'aimes à la folie\n",
      "Les yeux d'Angelina Jolie, mental Sandra Paoli\n",
      "\n",
      "[Pont]\n",
      "Ma jolie, ma jolie, ma jolie, ma jolie\n",
      "Ma jolie, ma jolie, ma jolie, ma jolie\n",
      "Ma jolie, ma jolie, ma jolie, ma jolie\n",
      "Ma jolie, ma jolie, ma jolie, ma jolie\n",
      "Ma jolie, ma jolie, ma jolie, ma jolie\n",
      "\n",
      "[Outro]\n",
      "Quand je la vois j'suis plus là, j'ai mis les voiles, j'ai pris le large\n",
      "Dans l'bonheur je nage, tu parles avec moi s'tu veux j'm'en tape\n"
     ]
    }
   ],
   "source": [
    "song.save_lyrics(\"lyrics\",\".txt\")\n",
    "print(song.lyrics)\n",
    "\n"
   ]
  },
  {
   "cell_type": "markdown",
   "metadata": {},
   "source": [
    "\n",
    "### Goal 1: DONE!"
   ]
  },
  {
   "cell_type": "markdown",
   "metadata": {},
   "source": [
    "# Goal 2\n",
    "* Find all songs for a artist"
   ]
  },
  {
   "cell_type": "code",
   "execution_count": 4,
   "metadata": {},
   "outputs": [
    {
     "name": "stdout",
     "output_type": "stream",
     "text": [
      "13 by JuL\n",
      "complete\n",
      "5023600\n",
      "\n",
      "\n",
      "135 City by JuL\n",
      "complete\n",
      "1778338\n",
      "\n",
      "\n",
      "1369 by Moubarak (Ft. JuL, La Famax, L’Allemand, TK (FRA) & Vrax)\n",
      "complete\n",
      "4716503\n",
      "\n",
      "\n",
      "13 Marseille by Moubarak (Ft. JuL, Psy 4 de la Rime & TK (FRA))\n",
      "complete\n",
      "4730420\n",
      "\n",
      "\n",
      "15.Bonus #Jul by Sinio XCV\n",
      "complete\n",
      "5267585\n",
      "\n",
      "\n",
      "1er Dans La Bataille by JuL\n",
      "complete\n",
      "1783268\n",
      "\n",
      "\n",
      "4 heures du mat' by JuL\n",
      "complete\n",
      "3241873\n",
      "\n",
      "\n",
      "500 Chevaux by JuL\n",
      "complete\n",
      "2870778\n",
      "\n",
      "\n",
      "6.35 by JuL\n",
      "complete\n",
      "5026113\n",
      "\n",
      "\n",
      "Abandonner by Houari (Ft. JuL)\n",
      "complete\n",
      "5486327\n",
      "\n",
      "\n",
      "Abandonner by JuL (Ft. Houari)\n",
      "complete\n",
      "4352719\n",
      "\n",
      "\n",
      "À bout de nerf by JuL\n",
      "complete\n",
      "713989\n",
      "\n",
      "\n",
      "A coup de taser by JuL\n",
      "complete\n",
      "2332962\n",
      "\n",
      "\n",
      "À croire que by JuL\n",
      "complete\n",
      "2334794\n",
      "\n",
      "\n",
      "Action-Réaction (Condamné Au Béton) (Détention) by JuL (Ft. Veazy)\n",
      "complete\n",
      "1783271\n",
      "\n",
      "\n",
      "Affaire de Famille by JuL (Ft. Naps & Veazy)\n",
      "complete\n",
      "2262879\n",
      "\n",
      "\n",
      "Africa Twin by JuL\n",
      "complete\n",
      "4918715\n",
      "\n",
      "\n",
      "Agis by JuL\n",
      "complete\n",
      "2732475\n",
      "\n",
      "\n",
      "Agis ou ferme tgl by JuL\n",
      "complete\n",
      "2870971\n",
      "\n",
      "\n",
      "Agression by JuL\n",
      "complete\n",
      "2385097\n",
      "\n",
      "\n"
     ]
    }
   ],
   "source": [
    "# Jul id is 74283\n",
    "artist_id = 74283\n",
    "songs = genius.get_artist_songs(artist_id)\n",
    "\n",
    "for song in songs[\"songs\"]:\n",
    "    print(song[\"full_title\"])\n",
    "    print(song[\"lyrics_state\"])\n",
    "    print(song[\"id\"])\n",
    "    print(\"\\n\")"
   ]
  },
  {
   "cell_type": "markdown",
   "metadata": {},
   "source": [
    "* Loop to get all songs"
   ]
  },
  {
   "cell_type": "code",
   "execution_count": 10,
   "metadata": {},
   "outputs": [
    {
     "name": "stdout",
     "output_type": "stream",
     "text": [
      "Page: 1\n",
      "\t 13 by JuL - complete - 5023600\n",
      "\t 135 City by JuL - complete - 1778338\n",
      "\t 1369 by Moubarak (Ft. JuL, La Famax, L’Allemand, TK (FRA) & Vrax) - complete - 4716503\n",
      "\t 13 Marseille by Moubarak (Ft. JuL, Psy 4 de la Rime & TK (FRA)) - complete - 4730420\n",
      "\t 15.Bonus #Jul by Sinio XCV - complete - 5267585\n",
      "\t 1er Dans La Bataille by JuL - complete - 1783268\n",
      "\t 4 heures du mat' by JuL - complete - 3241873\n",
      "\t 500 Chevaux by JuL - complete - 2870778\n",
      "\t 6.35 by JuL - complete - 5026113\n",
      "\t Abandonner by Houari (Ft. JuL) - complete - 5486327\n",
      "\t Abandonner by JuL (Ft. Houari) - complete - 4352719\n",
      "\t À bout de nerf by JuL - complete - 713989\n",
      "\t A coup de taser by JuL - complete - 2332962\n",
      "\t À croire que by JuL - complete - 2334794\n",
      "\t Action-Réaction (Condamné Au Béton) (Détention) by JuL (Ft. Veazy) - complete - 1783271\n",
      "\t Affaire de Famille by JuL (Ft. Naps & Veazy) - complete - 2262879\n",
      "\t Africa Twin by JuL - complete - 4918715\n",
      "\t Agis by JuL - complete - 2732475\n",
      "\t Agis ou ferme tgl by JuL - complete - 2870971\n",
      "\t Agression by JuL - complete - 2385097\n"
     ]
    },
    {
     "ename": "SyntaxError",
     "evalue": "'return' outside function (<ipython-input-10-8ab4b27faaea>, line 24)",
     "output_type": "error",
     "traceback": [
      "\u001b[0;36m  File \u001b[0;32m\"<ipython-input-10-8ab4b27faaea>\"\u001b[0;36m, line \u001b[0;32m24\u001b[0m\n\u001b[0;31m    return\u001b[0m\n\u001b[0m          ^\u001b[0m\n\u001b[0;31mSyntaxError\u001b[0m\u001b[0;31m:\u001b[0m 'return' outside function\n"
     ]
    }
   ],
   "source": [
    "artist_id = 74283\n",
    "# state: complete, unreleased\n",
    "def print_song(song):\n",
    "    print(\"\\t\",song[\"full_title\"], \"-\",song[\"lyrics_state\"], \"-\", song[\"id\"])\n",
    "#    print(\"\\n\")\n",
    "\n",
    "# Print songs\n",
    "# Return how many songs have \"complete\" lyrics\n",
    "def print_songs(songs):\n",
    "    complete = 0\n",
    "    for song in songs:\n",
    "        print_song(song)\n",
    "        if song[\"lyrics_state\"] == \"complete\":\n",
    "            complete += 1\n",
    "    return complete\n",
    "        \n",
    "    \n",
    "page = 1\n",
    "songs = genius.get_artist_songs(artist_id, page=page)\n",
    "print(\"Page:\", page)\n",
    "page = songs[\"next_page\"]\n",
    "complete = print_songs(songs[\"songs\"])\n",
    "\n",
    "return\n",
    "while page != None :\n",
    "    page = songs[\"next_page\"]\n",
    "    songs = genius.get_artist_songs(artist_id, page=page)\n",
    "    print(\"Page:\", page)\n",
    "    complete += print_songs(songs[\"songs\"])\n",
    "    print(\"complete:\",complete)\n",
    "\n",
    "        "
   ]
  },
  {
   "cell_type": "markdown",
   "metadata": {},
   "source": [
    "Results:\n",
    "- page: 40\n",
    "- complete songs: 788"
   ]
  },
  {
   "cell_type": "markdown",
   "metadata": {},
   "source": [
    "Ideas\n",
    "* let indicators in lyrics: [Intro], ...\n",
    "* remove indicators in lyrics"
   ]
  },
  {
   "cell_type": "markdown",
   "metadata": {},
   "source": [
    "# Goal 3\n",
    "* Save lyrics into one file"
   ]
  },
  {
   "cell_type": "code",
   "execution_count": null,
   "metadata": {},
   "outputs": [],
   "source": [
    "# First \n",
    "song = song[\"song\"]\n",
    "song"
   ]
  },
  {
   "cell_type": "code",
   "execution_count": 17,
   "metadata": {},
   "outputs": [
    {
     "data": {
      "text/plain": [
       "{'annotation_count': 1,\n",
       " 'api_path': '/songs/2385097',\n",
       " 'apple_music_id': None,\n",
       " 'apple_music_player_url': 'https://genius.com/songs/2385097/apple_music_player',\n",
       " 'description': {'plain': '?'},\n",
       " 'embed_content': \"<div id='rg_embed_link_2385097' class='rg_embed_link' data-song-id='2385097'>Read <a href='https://genius.com/Jul-agression-lyrics'>“Agression” by JuL</a> on Genius</div> <script crossorigin src='//genius.com/songs/2385097/embed.js'></script>\",\n",
       " 'featured_video': False,\n",
       " 'full_title': 'Agression by\\xa0JuL',\n",
       " 'header_image_thumbnail_url': 'https://images.genius.com/11e7df0856f7dcb3ba55c4bfb724444b.300x300x1.jpg',\n",
       " 'header_image_url': 'https://images.genius.com/11e7df0856f7dcb3ba55c4bfb724444b.640x640x1.jpg',\n",
       " 'id': 2385097,\n",
       " 'lyrics_owner_id': 307006,\n",
       " 'lyrics_placeholder_reason': None,\n",
       " 'lyrics_state': 'complete',\n",
       " 'path': '/Jul-agression-lyrics',\n",
       " 'pyongs_count': 1,\n",
       " 'recording_location': None,\n",
       " 'release_date': None,\n",
       " 'release_date_for_display': None,\n",
       " 'song_art_image_thumbnail_url': 'https://images.genius.com/11e7df0856f7dcb3ba55c4bfb724444b.300x300x1.jpg',\n",
       " 'song_art_image_url': 'https://images.genius.com/11e7df0856f7dcb3ba55c4bfb724444b.640x640x1.jpg',\n",
       " 'stats': {'accepted_annotations': 0,\n",
       "  'contributors': 2,\n",
       "  'iq_earners': 0,\n",
       "  'transcribers': 2,\n",
       "  'unreviewed_annotations': 0,\n",
       "  'verified_annotations': 0,\n",
       "  'hot': False},\n",
       " 'title': 'Agression',\n",
       " 'title_with_featured': 'Agression',\n",
       " 'url': 'https://genius.com/Jul-agression-lyrics',\n",
       " 'current_user_metadata': {'permissions': ['view_apple_music_player',\n",
       "   'create_comment',\n",
       "   'view_song_story_gallery'],\n",
       "  'excluded_permissions': ['follow',\n",
       "   'award_transcription_iq',\n",
       "   'remove_transcription_iq',\n",
       "   'see_pageviews',\n",
       "   'pyong',\n",
       "   'edit_lyrics',\n",
       "   'view_annotation_engagement_data',\n",
       "   'publish',\n",
       "   'unpublish',\n",
       "   'edit_spotify_details',\n",
       "   'hide',\n",
       "   'unhide',\n",
       "   'toggle_featured_video',\n",
       "   'add_pinned_annotation_to',\n",
       "   'add_community_annotation_to',\n",
       "   'destroy',\n",
       "   'mark_as_not_spam',\n",
       "   'edit_spotify_annotations_for',\n",
       "   'verify_lyrics',\n",
       "   'unverify_lyrics',\n",
       "   'edit_anything',\n",
       "   'edit_any_media',\n",
       "   'edit',\n",
       "   'rename',\n",
       "   'edit_tags',\n",
       "   'watch_fact_track',\n",
       "   'reindex',\n",
       "   'view_lyrics_synchronization',\n",
       "   'enable_media',\n",
       "   'disable_media',\n",
       "   'edit_lyrics_or_annotation_brackets',\n",
       "   'see_editorial_indicators',\n",
       "   'view_attribution_visualization',\n",
       "   'edit_annotation_brackets',\n",
       "   'preview_lyrics_for_export',\n",
       "   'hide_apple_player',\n",
       "   'unhide_apple_player',\n",
       "   'trigger_apple_match',\n",
       "   'mark_lyrics_evaluation_as_approved',\n",
       "   'mark_lyrics_evaluation_as_staff_approved',\n",
       "   'mark_lyrics_evaluation_as_unapproved',\n",
       "   'mark_lyrics_evaluation_as_un_staff_approved',\n",
       "   'view_transcriber_media_player',\n",
       "   'override_apple_match',\n",
       "   'edit_youtube_url',\n",
       "   'edit_soundcloud_url',\n",
       "   'edit_spotify_uuid',\n",
       "   'edit_vevo_url',\n",
       "   'moderate_annotations',\n",
       "   'create_annotation',\n",
       "   'see_short_id',\n",
       "   'manage_chart_item',\n",
       "   'create_tag',\n",
       "   'propose_lyrics_edit',\n",
       "   'moderate_lyrics_edit_proposals',\n",
       "   'preview_react_song_page'],\n",
       "  'interactions': {'pyong': False, 'following': False},\n",
       "  'relationships': {},\n",
       "  'iq_by_action': {}},\n",
       " 'album': None,\n",
       " 'custom_performances': [],\n",
       " 'description_annotation': {'_type': 'referent',\n",
       "  'annotator_id': 307006,\n",
       "  'annotator_login': 'JulStjean135',\n",
       "  'api_path': '/referents/8331648',\n",
       "  'classification': 'needs_exegesis',\n",
       "  'fragment': 'Agression',\n",
       "  'id': 8331648,\n",
       "  'is_description': True,\n",
       "  'path': '/8331648/Jul-agression/Agression',\n",
       "  'range': {'content': 'Agression'},\n",
       "  'song_id': 2385097,\n",
       "  'url': 'https://genius.com/8331648/Jul-agression/Agression',\n",
       "  'verified_annotator_ids': [],\n",
       "  'annotatable': {'api_path': '/songs/2385097',\n",
       "   'client_timestamps': {'updated_by_human_at': 1465990909,\n",
       "    'lyrics_updated_at': 1465990909},\n",
       "   'context': 'JuL',\n",
       "   'id': 2385097,\n",
       "   'image_url': 'https://images.genius.com/11e7df0856f7dcb3ba55c4bfb724444b.640x640x1.jpg',\n",
       "   'link_title': 'Agression by\\xa0JuL',\n",
       "   'title': 'Agression',\n",
       "   'type': 'Song',\n",
       "   'url': 'https://genius.com/Jul-agression-lyrics'},\n",
       "  'annotations': [{'api_path': '/annotations/8331648',\n",
       "    'body': {'plain': ''},\n",
       "    'comment_count': 0,\n",
       "    'community': True,\n",
       "    'custom_preview': None,\n",
       "    'has_voters': False,\n",
       "    'id': 8331648,\n",
       "    'pinned': False,\n",
       "    'share_url': 'https://genius.com/8331648',\n",
       "    'source': None,\n",
       "    'state': 'needs_exegesis',\n",
       "    'url': 'https://genius.com/8331648/Jul-agression/Agression',\n",
       "    'verified': False,\n",
       "    'votes_total': 0,\n",
       "    'current_user_metadata': {'permissions': [],\n",
       "     'excluded_permissions': ['vote',\n",
       "      'edit',\n",
       "      'cosign',\n",
       "      'uncosign',\n",
       "      'destroy',\n",
       "      'accept',\n",
       "      'reject',\n",
       "      'see_unreviewed',\n",
       "      'clear_votes',\n",
       "      'propose_edit_to',\n",
       "      'pin_to_profile',\n",
       "      'unpin_from_profile',\n",
       "      'update_source',\n",
       "      'edit_custom_preview',\n",
       "      'create_comment'],\n",
       "     'interactions': {'cosign': False, 'pyong': False, 'vote': None},\n",
       "     'iq_by_action': {}},\n",
       "    'authors': [{'attribution': 1.0,\n",
       "      'pinned_role': None,\n",
       "      'user': {'api_path': '/users/307006',\n",
       "       'avatar': {'tiny': {'url': 'https://images.genius.com/avatars/tiny/834e30867d36e3f391e36f80f89d0615',\n",
       "         'bounding_box': {'width': 16, 'height': 16}},\n",
       "        'thumb': {'url': 'https://images.genius.com/avatars/thumb/834e30867d36e3f391e36f80f89d0615',\n",
       "         'bounding_box': {'width': 32, 'height': 32}},\n",
       "        'small': {'url': 'https://images.genius.com/avatars/small/834e30867d36e3f391e36f80f89d0615',\n",
       "         'bounding_box': {'width': 100, 'height': 100}},\n",
       "        'medium': {'url': 'https://images.genius.com/avatars/medium/834e30867d36e3f391e36f80f89d0615',\n",
       "         'bounding_box': {'width': 300, 'height': 400}}},\n",
       "       'header_image_url': 'https://images.genius.com/avatars/medium/834e30867d36e3f391e36f80f89d0615',\n",
       "       'human_readable_role_for_display': 'Contributor',\n",
       "       'id': 307006,\n",
       "       'iq': 3684,\n",
       "       'login': 'JulStjean135',\n",
       "       'name': 'JulStjean135',\n",
       "       'role_for_display': 'contributor',\n",
       "       'url': 'https://genius.com/JulStjean135',\n",
       "       'current_user_metadata': {'permissions': [],\n",
       "        'excluded_permissions': ['follow'],\n",
       "        'interactions': {'following': False}}}}],\n",
       "    'cosigned_by': [],\n",
       "    'rejection_comment': None,\n",
       "    'verified_by': None}]},\n",
       " 'featured_artists': [],\n",
       " 'lyrics_marked_complete_by': None,\n",
       " 'media': [],\n",
       " 'primary_artist': {'api_path': '/artists/74283',\n",
       "  'header_image_url': 'https://images.genius.com/cde5cbe2032da786ebbf460d259533ff.320x180x20.gif',\n",
       "  'id': 74283,\n",
       "  'image_url': 'https://images.genius.com/11e7df0856f7dcb3ba55c4bfb724444b.640x640x1.jpg',\n",
       "  'is_meme_verified': False,\n",
       "  'is_verified': False,\n",
       "  'name': 'JuL',\n",
       "  'url': 'https://genius.com/artists/Jul'},\n",
       " 'producer_artists': [{'api_path': '/artists/74283',\n",
       "   'header_image_url': 'https://images.genius.com/cde5cbe2032da786ebbf460d259533ff.320x180x20.gif',\n",
       "   'id': 74283,\n",
       "   'image_url': 'https://images.genius.com/11e7df0856f7dcb3ba55c4bfb724444b.640x640x1.jpg',\n",
       "   'is_meme_verified': False,\n",
       "   'is_verified': False,\n",
       "   'name': 'JuL',\n",
       "   'url': 'https://genius.com/artists/Jul'}],\n",
       " 'song_relationships': [{'relationship_type': 'samples',\n",
       "   'type': 'samples',\n",
       "   'songs': []},\n",
       "  {'relationship_type': 'sampled_in', 'type': 'sampled_in', 'songs': []},\n",
       "  {'relationship_type': 'interpolates', 'type': 'interpolates', 'songs': []},\n",
       "  {'relationship_type': 'interpolated_by',\n",
       "   'type': 'interpolated_by',\n",
       "   'songs': []},\n",
       "  {'relationship_type': 'cover_of', 'type': 'cover_of', 'songs': []},\n",
       "  {'relationship_type': 'covered_by', 'type': 'covered_by', 'songs': []},\n",
       "  {'relationship_type': 'remix_of', 'type': 'remix_of', 'songs': []},\n",
       "  {'relationship_type': 'remixed_by', 'type': 'remixed_by', 'songs': []},\n",
       "  {'relationship_type': 'live_version_of',\n",
       "   'type': 'live_version_of',\n",
       "   'songs': []},\n",
       "  {'relationship_type': 'performed_live_as',\n",
       "   'type': 'performed_live_as',\n",
       "   'songs': []}],\n",
       " 'verified_annotations_by': [],\n",
       " 'verified_contributors': [],\n",
       " 'verified_lyrics_by': [],\n",
       " 'writer_artists': [{'api_path': '/artists/74283',\n",
       "   'header_image_url': 'https://images.genius.com/cde5cbe2032da786ebbf460d259533ff.320x180x20.gif',\n",
       "   'id': 74283,\n",
       "   'image_url': 'https://images.genius.com/11e7df0856f7dcb3ba55c4bfb724444b.640x640x1.jpg',\n",
       "   'is_meme_verified': False,\n",
       "   'is_verified': False,\n",
       "   'name': 'JuL',\n",
       "   'url': 'https://genius.com/artists/Jul'}]}"
      ]
     },
     "execution_count": 17,
     "metadata": {},
     "output_type": "execute_result"
    }
   ],
   "source": [
    "song"
   ]
  },
  {
   "cell_type": "code",
   "execution_count": 23,
   "metadata": {},
   "outputs": [
    {
     "name": "stdout",
     "output_type": "stream",
     "text": [
      "Searching for \"Agression by JuL\" by JuL...\n",
      "Done.\n",
      "\"Agression\" by JuL:\n",
      "    [Intro]\n",
      "    Yeah yeah, du 13 au 93\n",
      "    C'est une agression lyricale, JUL\n",
      "    1.3.5 1.3.5\n",
      "    \n",
      "    [Couplet 1]\n",
      "    Comme dis ...\n"
     ]
    }
   ],
   "source": [
    "song_id = song[\"id\"]\n",
    "song_title = song[\"full_title\"]\n",
    "artist = song[\"primary_artist\"][\"name\"]\n",
    "new_song = genius.search_song(song_title, artist)\n",
    "print(new_song)"
   ]
  },
  {
   "cell_type": "code",
   "execution_count": 30,
   "metadata": {},
   "outputs": [
    {
     "name": "stdout",
     "output_type": "stream",
     "text": [
      "Wrote Agression to JuL_2385097.txt.\n",
      "\"Agression\" by JuL:\n",
      "    [Intro]\n",
      "    Yeah yeah, du 13 au 93\n",
      "    C'est une agression lyricale, JUL\n",
      "    1.3.5 1.3.5\n",
      "    \n",
      "    [Couplet 1]\n",
      "    Comme dis ...\n"
     ]
    }
   ],
   "source": [
    "lyrics_filename = \"_\".join([artist,str(song_id)])\n",
    "new_song.save_lyrics(lyrics_filename, \".txt\")\n",
    "print(new_song)"
   ]
  },
  {
   "cell_type": "code",
   "execution_count": 82,
   "metadata": {},
   "outputs": [],
   "source": [
    "def save_lyrics(song):\n",
    "    song_id = song[\"id\"]\n",
    "    song_title = song[\"full_title\"]\n",
    "    artist = song[\"primary_artist\"][\"name\"]\n",
    "    filename = \"_\".join([artist,str(song_id)])\n",
    "    \n",
    "    is_file = os.path.isfile(filename+\".txt\")\n",
    "    if is_file:\n",
    "        print(\" \".join([song_title,\"already presend. Not searching.\"]))\n",
    "    else:\n",
    "        new_song = genius.search_song(song_title, artist)\n",
    "        print(new_song)\n",
    "        if new_song != None:\n",
    "            new_song.save_lyrics(filename, \".txt\")\n",
    "    return"
   ]
  },
  {
   "cell_type": "code",
   "execution_count": 83,
   "metadata": {},
   "outputs": [
    {
     "name": "stdout",
     "output_type": "stream",
     "text": [
      "True\n",
      "Agression by JuL already presend. Not searching.\n"
     ]
    }
   ],
   "source": [
    "save_lyrics(song)"
   ]
  },
  {
   "cell_type": "markdown",
   "metadata": {},
   "source": [
    "We save lyrics into a file.\n",
    "We noticed: \n",
    "* songs from '.get_artist_songs' are not Song object\n",
    "* Song object are necessary because they contain lyrics\n",
    "* Lyrics are scraped in '.search_song' method\n",
    "\n"
   ]
  },
  {
   "cell_type": "code",
   "execution_count": 37,
   "metadata": {},
   "outputs": [],
   "source": [
    "def get_random_song(artist_id):\n",
    "    songs = genius.get_artist_songs(artist_id, per_page=1)\n",
    "    return songs[\"songs\"][0]"
   ]
  },
  {
   "cell_type": "code",
   "execution_count": 38,
   "metadata": {},
   "outputs": [
    {
     "data": {
      "text/plain": [
       "{'annotation_count': 0,\n",
       " 'api_path': '/songs/5023600',\n",
       " 'full_title': '13 by\\xa0JuL',\n",
       " 'header_image_thumbnail_url': 'https://images.genius.com/11e7df0856f7dcb3ba55c4bfb724444b.300x300x1.jpg',\n",
       " 'header_image_url': 'https://images.genius.com/11e7df0856f7dcb3ba55c4bfb724444b.640x640x1.jpg',\n",
       " 'id': 5023600,\n",
       " 'lyrics_owner_id': 3348977,\n",
       " 'lyrics_state': 'complete',\n",
       " 'path': '/Jul-13-lyrics',\n",
       " 'pyongs_count': 1,\n",
       " 'song_art_image_thumbnail_url': 'https://images.genius.com/11e7df0856f7dcb3ba55c4bfb724444b.300x300x1.jpg',\n",
       " 'song_art_image_url': 'https://images.genius.com/11e7df0856f7dcb3ba55c4bfb724444b.640x640x1.jpg',\n",
       " 'stats': {'unreviewed_annotations': 0, 'hot': False},\n",
       " 'title': '13',\n",
       " 'title_with_featured': '13',\n",
       " 'url': 'https://genius.com/Jul-13-lyrics',\n",
       " 'primary_artist': {'api_path': '/artists/74283',\n",
       "  'header_image_url': 'https://images.genius.com/cde5cbe2032da786ebbf460d259533ff.320x180x20.gif',\n",
       "  'id': 74283,\n",
       "  'image_url': 'https://images.genius.com/11e7df0856f7dcb3ba55c4bfb724444b.640x640x1.jpg',\n",
       "  'is_meme_verified': False,\n",
       "  'is_verified': False,\n",
       "  'name': 'JuL',\n",
       "  'url': 'https://genius.com/artists/Jul'}}"
      ]
     },
     "execution_count": 38,
     "metadata": {},
     "output_type": "execute_result"
    }
   ],
   "source": [
    "get_random_song(artist_id)"
   ]
  },
  {
   "cell_type": "markdown",
   "metadata": {},
   "source": [
    "=> Concatenate songs"
   ]
  },
  {
   "cell_type": "code",
   "execution_count": 59,
   "metadata": {},
   "outputs": [],
   "source": [
    "# Print songs title and the state of lyrics\n",
    "def get_artist_songs(artist_id, limit=20):\n",
    "    page = 1\n",
    "    artist_songs = []\n",
    "    songs = genius.get_artist_songs(artist_id, page=page)\n",
    "    print(\"Page:\", page)\n",
    "    page = songs[\"next_page\"]\n",
    "    complete_songs = [song for song in songs[\"songs\"] if song['lyrics_state'] == \"complete\"]\n",
    "    artist_songs.extend(complete_songs)\n",
    "    print(\"len:\",len(artist_songs))\n",
    "\n",
    "    while (page != None) and (len(artist_songs) < limit) :\n",
    "        page = songs[\"next_page\"]\n",
    "        songs = genius.get_artist_songs(artist_id, page=page)\n",
    "        print(\"Page:\", page)\n",
    "        complete_songs = [song for song in songs[\"songs\"] if song['lyrics_state'] == \"complete\"]\n",
    "        artist_songs.extend(complete_songs)\n",
    "        print(\"len:\",len(artist_songs))\n",
    "    return artist_songs\n",
    "\n"
   ]
  },
  {
   "cell_type": "code",
   "execution_count": 62,
   "metadata": {},
   "outputs": [
    {
     "name": "stdout",
     "output_type": "stream",
     "text": [
      "Page: 1\n",
      "len: 20\n"
     ]
    }
   ],
   "source": [
    "songs = get_artist_songs(artist_id)"
   ]
  },
  {
   "cell_type": "code",
   "execution_count": 63,
   "metadata": {},
   "outputs": [],
   "source": [
    "def save_songs_lyrics(songs):\n",
    "    for song in songs:\n",
    "        save_lyrics(song)"
   ]
  },
  {
   "cell_type": "code",
   "execution_count": 84,
   "metadata": {},
   "outputs": [
    {
     "name": "stdout",
     "output_type": "stream",
     "text": [
      "True\n",
      "13 by JuL already presend. Not searching.\n",
      "True\n",
      "135 City by JuL already presend. Not searching.\n",
      "False\n",
      "Searching for \"1369 by Moubarak (Ft. JuL, La Famax, L’Allemand, TK (FRA) & Vrax)\" by Moubarak...\n",
      "Specified song does not have a valid URL with lyrics. Rejecting.\n",
      "None\n",
      "True\n",
      "13 Marseille by Moubarak (Ft. JuL, Psy 4 de la Rime & TK (FRA)) already presend. Not searching.\n",
      "True\n",
      "15.Bonus #Jul by Sinio XCV already presend. Not searching.\n",
      "False\n",
      "Searching for \"1er Dans La Bataille by JuL\" by JuL...\n",
      "Specified song does not have a valid URL with lyrics. Rejecting.\n",
      "None\n",
      "False\n",
      "Searching for \"4 heures du mat' by JuL\" by JuL...\n",
      "Done.\n",
      "\"4 heures du mat’\" by JuL:\n",
      "    [Couplet 1]\n",
      "    J'me laisse aller, tu connais ma vie j'vais pas l'étaler\n",
      "    Trop d'frères en taule, l'addit...\n",
      "Wrote 4 heures du mat’ to JuL_3241873.txt.\n",
      "True\n",
      "500 Chevaux by JuL already presend. Not searching.\n",
      "True\n",
      "6.35 by JuL already presend. Not searching.\n",
      "True\n",
      "Abandonner by Houari (Ft. JuL) already presend. Not searching.\n",
      "True\n",
      "Abandonner by JuL (Ft. Houari) already presend. Not searching.\n",
      "False\n",
      "Searching for \"À bout de nerf by JuL\" by JuL...\n",
      "Done.\n",
      "\"À bout de nerf\" by JuL:\n",
      "    [Couplet 1]\n",
      "    Et je tourne en rond\n",
      "    M4 à fond\n",
      "    A bout de nerf, bouillant\n",
      "    J'esquive les cons\n",
      "    Laisse-moi f...\n",
      "Wrote À bout de nerf to JuL_713989.txt.\n",
      "True\n",
      "A coup de taser by JuL already presend. Not searching.\n",
      "False\n",
      "Searching for \"À croire que by JuL\" by JuL...\n",
      "Specified song does not have a valid URL with lyrics. Rejecting.\n",
      "None\n",
      "False\n",
      "Searching for \"Action-Réaction (Condamné Au Béton) (Détention) by JuL (Ft. Veazy)\" by JuL...\n",
      "Specified song does not have a valid URL with lyrics. Rejecting.\n",
      "None\n",
      "False\n",
      "Searching for \"Affaire de Famille by JuL (Ft. Naps & Veazy)\" by JuL...\n",
      "Done.\n",
      "\"Affaire de Famille\" by JuL:\n",
      "    [Couplet 1 : Naps]\n",
      "    Finalement moi petit frère t’sais j’sais pas trop quoi te dire\n",
      "    À part qu’les meuf...\n",
      "Wrote Affaire de Famille to JuL_2262879.txt.\n",
      "False\n",
      "Searching for \"Africa Twin by JuL\" by JuL...\n",
      "Specified song does not have a valid URL with lyrics. Rejecting.\n",
      "None\n",
      "False\n",
      "Searching for \"Agis by JuL\" by JuL...\n",
      "Done.\n",
      "\"Agis\" by JuL:\n",
      "    [Refrain]\n",
      "    Ouais agis ou ferme ta gueule\n",
      "    Agis ou ferme ta gueule\n",
      "    Agis ou ferme ta gueule, agis\n",
      "    \n",
      "    [Coup...\n",
      "Wrote Agis to JuL_2732475.txt.\n",
      "False\n",
      "Searching for \"Agis ou ferme tgl by JuL\" by JuL...\n",
      "Specified song does not have a valid URL with lyrics. Rejecting.\n",
      "None\n",
      "True\n",
      "Agression by JuL already presend. Not searching.\n"
     ]
    }
   ],
   "source": [
    "save_songs_lyrics(songs)"
   ]
  },
  {
   "cell_type": "code",
   "execution_count": null,
   "metadata": {},
   "outputs": [],
   "source": []
  }
 ],
 "metadata": {
  "kernelspec": {
   "display_name": "Python 3",
   "language": "python",
   "name": "python3"
  },
  "language_info": {
   "codemirror_mode": {
    "name": "ipython",
    "version": 3
   },
   "file_extension": ".py",
   "mimetype": "text/x-python",
   "name": "python",
   "nbconvert_exporter": "python",
   "pygments_lexer": "ipython3",
   "version": "3.7.7"
  }
 },
 "nbformat": 4,
 "nbformat_minor": 4
}
