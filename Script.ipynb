{
 "cells": [
  {
   "cell_type": "code",
   "execution_count": 23,
   "metadata": {},
   "outputs": [],
   "source": [
    "import lyricsgenius\n",
    "import credentials\n",
    "import os"
   ]
  },
  {
   "cell_type": "code",
   "execution_count": 24,
   "metadata": {},
   "outputs": [],
   "source": [
    "# Connect genius client\n",
    "genius = lyricsgenius.Genius(credentials.genius_access_token)"
   ]
  },
  {
   "cell_type": "code",
   "execution_count": 25,
   "metadata": {},
   "outputs": [],
   "source": [
    "\n",
    "\n",
    "# state: complete, unreleased\n",
    "def print_song(song):\n",
    "    print(\"\\t\",song[\"full_title\"], \"-\",song[\"lyrics_state\"], \"-\", song[\"id\"])\n",
    "\n",
    "# Print songs\n",
    "# Return how many songs have \"complete\" lyrics\n",
    "def print_songs(songs):\n",
    "    complete = 0\n",
    "    for song in songs:\n",
    "        print_song(song)\n",
    "        if song[\"lyrics_state\"] == \"complete\":\n",
    "            complete += 1\n",
    "    return complete\n",
    "        \n",
    "    \n",
    "       "
   ]
  },
  {
   "cell_type": "code",
   "execution_count": 26,
   "metadata": {},
   "outputs": [],
   "source": [
    "# Print songs title and the state of lyrics\n",
    "def print_artist_songs(artist_id):\n",
    "    page = 1\n",
    "    songs = genius.get_artist_songs(artist_id, page=page)\n",
    "    print(\"Page:\", page)\n",
    "    page = songs[\"next_page\"]\n",
    "    complete = print_songs(songs[\"songs\"])\n",
    "\n",
    "    while page != None :\n",
    "        page = songs[\"next_page\"]\n",
    "        songs = genius.get_artist_songs(artist_id, page=page)\n",
    "        print(\"Page:\", page)\n",
    "        complete += print_songs(songs[\"songs\"])\n",
    "        print(\"complete:\",complete)\n",
    "\n"
   ]
  },
  {
   "cell_type": "code",
   "execution_count": 27,
   "metadata": {},
   "outputs": [],
   "source": [
    "def get_random_song(artist_id):\n",
    "    songs = genius.get_artist_songs(artist_id, per_page=1)\n",
    "    return songs[\"songs\"][0]"
   ]
  },
  {
   "cell_type": "code",
   "execution_count": 29,
   "metadata": {},
   "outputs": [],
   "source": [
    "artist_id = 74283"
   ]
  },
  {
   "cell_type": "markdown",
   "metadata": {},
   "source": [
    "### Save Lyrics"
   ]
  },
  {
   "cell_type": "code",
   "execution_count": 30,
   "metadata": {},
   "outputs": [],
   "source": [
    "def save_lyrics(song):\n",
    "    song_id = song[\"id\"]\n",
    "    song_title = song[\"full_title\"]\n",
    "    artist = song[\"primary_artist\"][\"name\"]\n",
    "    filename = \"_\".join([artist,str(song_id)])\n",
    "    \n",
    "    is_file = os.path.isfile(filename+\".txt\")\n",
    "    if is_file:\n",
    "        print(\" \".join([\"\\t\",song_title,\"already presend. Not searching.\"]))\n",
    "    else:\n",
    "        new_song = genius.search_song(song_title, artist)\n",
    "        if new_song != None:\n",
    "            new_song.save_lyrics(filename, \".txt\")\n",
    "    return"
   ]
  },
  {
   "cell_type": "code",
   "execution_count": 31,
   "metadata": {},
   "outputs": [
    {
     "data": {
      "text/plain": [
       "{'annotation_count': 0,\n",
       " 'api_path': '/songs/5023600',\n",
       " 'full_title': '13 by\\xa0JuL',\n",
       " 'header_image_thumbnail_url': 'https://images.genius.com/11e7df0856f7dcb3ba55c4bfb724444b.300x300x1.jpg',\n",
       " 'header_image_url': 'https://images.genius.com/11e7df0856f7dcb3ba55c4bfb724444b.640x640x1.jpg',\n",
       " 'id': 5023600,\n",
       " 'lyrics_owner_id': 3348977,\n",
       " 'lyrics_state': 'complete',\n",
       " 'path': '/Jul-13-lyrics',\n",
       " 'pyongs_count': 1,\n",
       " 'song_art_image_thumbnail_url': 'https://images.genius.com/11e7df0856f7dcb3ba55c4bfb724444b.300x300x1.jpg',\n",
       " 'song_art_image_url': 'https://images.genius.com/11e7df0856f7dcb3ba55c4bfb724444b.640x640x1.jpg',\n",
       " 'stats': {'unreviewed_annotations': 0, 'hot': False},\n",
       " 'title': '13',\n",
       " 'title_with_featured': '13',\n",
       " 'url': 'https://genius.com/Jul-13-lyrics',\n",
       " 'primary_artist': {'api_path': '/artists/74283',\n",
       "  'header_image_url': 'https://images.genius.com/cde5cbe2032da786ebbf460d259533ff.320x180x20.gif',\n",
       "  'id': 74283,\n",
       "  'image_url': 'https://images.genius.com/11e7df0856f7dcb3ba55c4bfb724444b.640x640x1.jpg',\n",
       "  'is_meme_verified': False,\n",
       "  'is_verified': False,\n",
       "  'name': 'JuL',\n",
       "  'url': 'https://genius.com/artists/Jul'}}"
      ]
     },
     "execution_count": 31,
     "metadata": {},
     "output_type": "execute_result"
    }
   ],
   "source": [
    "song = get_random_song(artist_id)\n",
    "song"
   ]
  },
  {
   "cell_type": "code",
   "execution_count": 32,
   "metadata": {},
   "outputs": [
    {
     "name": "stdout",
     "output_type": "stream",
     "text": [
      "\t 13 by JuL already presend. Not searching.\n"
     ]
    }
   ],
   "source": [
    "save_lyrics(song)"
   ]
  },
  {
   "cell_type": "code",
   "execution_count": 33,
   "metadata": {},
   "outputs": [],
   "source": [
    "# Print songs title and the state of lyrics\n",
    "def get_artist_songs(artist_id, limit=20):\n",
    "    page = 1\n",
    "    artist_songs = []\n",
    "    songs = genius.get_artist_songs(artist_id, page=page)\n",
    "    print(\"Page:\", page)\n",
    "    page = songs[\"next_page\"]\n",
    "    complete_songs = [song for song in songs[\"songs\"] if song['lyrics_state'] == \"complete\"]\n",
    "    artist_songs.extend(complete_songs)\n",
    "\n",
    "    while (page != None) and (len(artist_songs) < limit) :\n",
    "        page = songs[\"next_page\"]\n",
    "        songs = genius.get_artist_songs(artist_id, page=page)\n",
    "        print(\"Page:\", page)\n",
    "        complete_songs = [song for song in songs[\"songs\"] if song['lyrics_state'] == \"complete\"]\n",
    "        artist_songs.extend(complete_songs)\n",
    "    return artist_songs\n",
    "\n"
   ]
  },
  {
   "cell_type": "code",
   "execution_count": 34,
   "metadata": {},
   "outputs": [],
   "source": [
    "def save_songs_lyrics(songs):\n",
    "    for song in songs:\n",
    "        save_lyrics(song)"
   ]
  },
  {
   "cell_type": "code",
   "execution_count": null,
   "metadata": {},
   "outputs": [
    {
     "name": "stdout",
     "output_type": "stream",
     "text": [
      "Page: 1\n",
      "Page: 2\n",
      "Page: 3\n",
      "Page: 4\n",
      "Page: 5\n",
      "Page: 6\n",
      "Page: 7\n",
      "Page: 8\n",
      "Page: 9\n",
      "Page: 10\n",
      "Page: 11\n",
      "Page: 12\n",
      "Page: 13\n",
      "Page: 14\n",
      "Page: 15\n",
      "Page: 16\n",
      "Page: 17\n",
      "Page: 18\n",
      "Page: 19\n",
      "Page: 20\n",
      "Page: 21\n",
      "Page: 22\n",
      "Page: 23\n",
      "Page: 24\n",
      "Page: 25\n",
      "Page: 26\n",
      "Page: 27\n",
      "Page: 28\n",
      "Page: 29\n",
      "Page: 30\n",
      "Page: 31\n",
      "Page: 32\n",
      "Page: 33\n",
      "Page: 34\n",
      "Page: 35\n",
      "Page: 36\n",
      "Page: 37\n",
      "Page: 38\n",
      "Page: 39\n",
      "Page: 40\n",
      "Page: None\n",
      "\t 13 by JuL already presend. Not searching.\n",
      "\t 135 City by JuL already presend. Not searching.\n",
      "\t 1369 by Moubarak (Ft. JuL, La Famax, L’Allemand, TK (FRA) & Vrax) already presend. Not searching.\n",
      "\t 13 Marseille by Moubarak (Ft. JuL, Psy 4 de la Rime & TK (FRA)) already presend. Not searching.\n",
      "\t 15.Bonus #Jul by Sinio XCV already presend. Not searching.\n",
      "\t 1er Dans La Bataille by JuL already presend. Not searching.\n",
      "\t 4 heures du mat' by JuL already presend. Not searching.\n",
      "\t 500 Chevaux by JuL already presend. Not searching.\n",
      "\t 6.35 by JuL already presend. Not searching.\n",
      "\t Abandonner by Houari (Ft. JuL) already presend. Not searching.\n",
      "\t Abandonner by JuL (Ft. Houari) already presend. Not searching.\n",
      "\t À bout de nerf by JuL already presend. Not searching.\n",
      "\t A coup de taser by JuL already presend. Not searching.\n",
      "\t À croire que by JuL already presend. Not searching.\n",
      "\t Action-Réaction (Condamné Au Béton) (Détention) by JuL (Ft. Veazy) already presend. Not searching.\n",
      "\t Affaire de Famille by JuL (Ft. Naps & Veazy) already presend. Not searching.\n",
      "\t Africa Twin by JuL already presend. Not searching.\n",
      "\t Agis by JuL already presend. Not searching.\n",
      "\t Agis ou ferme tgl by JuL already presend. Not searching.\n",
      "\t Agression by JuL already presend. Not searching.\n",
      "\t Ah c'est comme ça ! by JuL (Ft. Axèle & Ghetto Phénomène) already presend. Not searching.\n",
      "\t Ailleurs by JuL already presend. Not searching.\n",
      "Searching for \"Akha by JuL\" by JuL...\n",
      "Done.\n",
      "Wrote Der Weihnachtsmann lebt to JuL_2460092.txt.\n",
      "\t À la cité by JuL already presend. Not searching.\n",
      "\t À La Fou by JuL (Ft. Kamikaz) already presend. Not searching.\n",
      "\t A la vida a la muerte by JuL (Ft. Imen Es & Moubarak) already presend. Not searching.\n",
      "\t Alcoolisé by JuL already presend. Not searching.\n",
      "\t All eyez on me by JuL (Ft. DJ Kayz) already presend. Not searching.\n",
      "\t Allez Le Sang by JuL already presend. Not searching.\n",
      "\t A me dégoûte by JuL already presend. Not searching.\n",
      "\t Amigo by JuL already presend. Not searching.\n",
      "\t Amis ennemis by JuL already presend. Not searching.\n",
      "\t Amnésia by JuL already presend. Not searching.\n",
      "\t Amore by JuL already presend. Not searching.\n",
      "\t Anti-BDH by JuL already presend. Not searching.\n",
      "\t Anti-État (Freestyle) by JuL already presend. Not searching.\n",
      "\t Arrête de faire ta folle by JuL already presend. Not searching.\n",
      "\t Arrête de parler by JuL already presend. Not searching.\n",
      "\t Asalto by JuL already presend. Not searching.\n",
      "\t Askip by JuL already presend. Not searching.\n",
      "Searching for \"Audi volée by JuL (Ft. Kalif Hardcore)\" by JuL...\n",
      "Specified song does not have a valid URL with lyrics. Rejecting.\n",
      "\t Aujourd'hui by JuL already presend. Not searching.\n",
      "Searching for \"Au péage by JuL\" by JuL...\n",
      "Specified song does not have a valid URL with lyrics. Rejecting.\n",
      "Searching for \"Au pire by JuL\" by JuL...\n",
      "Done.\n",
      "Wrote Au pire to JuL_3783926.txt.\n",
      "\t Au quartier by JuL already presend. Not searching.\n",
      "Searching for \"Au quartier (Version album) by JuL\" by JuL...\n",
      "Specified song does not have a valid URL with lyrics. Rejecting.\n",
      "\t Au top by Kalif Hardcore already presend. Not searching.\n",
      "Searching for \"Avant GTR by JuL\" by JuL...\n",
      "Done.\n",
      "Wrote Avant GTR to JuL_4058054.txt.\n",
      "\t Avant la douane by JuL already presend. Not searching.\n",
      "Searching for \"Avec la chapka by JuL\" by JuL...\n",
      "Done.\n",
      "Wrote Avec la chapka to JuL_4058073.txt.\n",
      "Searching for \"Avec mes gars by JuL\" by JuL...\n",
      "Specified song does not have a valid URL with lyrics. Rejecting.\n",
      "\t Baby by JuL already presend. Not searching.\n",
      "\t Bagarre by JuL already presend. Not searching.\n",
      "Searching for \"BDG by JuL\" by JuL...\n",
      "Done.\n",
      "Wrote BDG to JuL_4622342.txt.\n",
      "\t Beely by JuL already presend. Not searching.\n",
      "Searching for \"Beuh magique by JuL\" by JuL...\n",
      "Done.\n",
      "Wrote Beuh magique to JuL_5026276.txt.\n",
      "\t Bientôt je me taille by JuL already presend. Not searching.\n",
      "\t Bonne année by JuL already presend. Not searching.\n",
      "\t Borussia by JuL already presend. Not searching.\n",
      "\t Boucan (Pilule Violette) by Gims (Ft. DJ LastOne & JuL) already presend. Not searching.\n",
      "\t Bouge-moi de là by JuL (Ft. A-Deal, Gambi, Gips, Houari, Kamikaz, Le.K, Miklo, Moubarak & TK (FRA)) already presend. Not searching.\n",
      "\t Briganter by JuL already presend. Not searching.\n",
      "Searching for \"Bruce Lee by JuL\" by JuL...\n",
      "Specified song does not have a valid URL with lyrics. Rejecting.\n",
      "\t Bwo by JuL already presend. Not searching.\n",
      "Searching for \"Ça... by JuL\" by JuL...\n",
      "Specified song does not have a valid URL with lyrics. Rejecting.\n",
      "Searching for \"Ça a tiré by JuL\" by JuL...\n",
      "Done.\n",
      "Wrote Ça a tiré to JuL_5026281.txt.\n",
      "Searching for \"Cabeza by Soprano (Ft. JuL)\" by Soprano...\n",
      "Done.\n",
      "Wrote Cabeza to Soprano_4984158.txt.\n",
      "\t Cafouillage by Guirri Mafia (Ft. Elams, Elc, JuL, Kiffa, KR (FRA), Malka, Moidam, N.I.C., Panther (FRA), Ram-Z (FRA), Sedy., Smoky & Zoxiid) already presend. Not searching.\n",
      "\t Cagoulé by JuL (Ft. Kalash Criminel) already presend. Not searching.\n",
      "\t Ça les dérange by Vitaa (Ft. JuL) already presend. Not searching.\n",
      "Searching for \"Ça M’a Mis Dedans by JuL (Ft. Nono (FRA))\" by JuL...\n",
      "Specified song does not have a valid URL with lyrics. Rejecting.\n",
      "Searching for \"Ça mange la barre by JuL\" by JuL...\n",
      "Specified song does not have a valid URL with lyrics. Rejecting.\n",
      "Searching for \"Ça me degoûte by JuL\" by JuL...\n"
     ]
    }
   ],
   "source": [
    "songs = get_artist_songs(artist_id, limit=800)\n",
    "save_songs_lyrics(songs)"
   ]
  },
  {
   "cell_type": "markdown",
   "metadata": {},
   "source": [
    "Session 1: 2h\n",
    "Sesson 2: 2h\n",
    "Sometimes: Specified song does not have a valid URL with lyrics. Rejecting."
   ]
  },
  {
   "cell_type": "code",
   "execution_count": null,
   "metadata": {},
   "outputs": [],
   "source": []
  }
 ],
 "metadata": {
  "kernelspec": {
   "display_name": "Python 3",
   "language": "python",
   "name": "python3"
  },
  "language_info": {
   "codemirror_mode": {
    "name": "ipython",
    "version": 3
   },
   "file_extension": ".py",
   "mimetype": "text/x-python",
   "name": "python",
   "nbconvert_exporter": "python",
   "pygments_lexer": "ipython3",
   "version": "3.7.7"
  }
 },
 "nbformat": 4,
 "nbformat_minor": 4
}
